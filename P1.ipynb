{
 "cells": [
  {
   "cell_type": "code",
   "execution_count": 2,
   "id": "25e6ee19",
   "metadata": {},
   "outputs": [],
   "source": [
    "import pandas as pd\n",
    "import numpy as np\n",
    "import matplotlib.pyplot as plt\n",
    "import seaborn as sns\n",
    "import os \n"
   ]
  },
  {
   "cell_type": "code",
   "execution_count": null,
   "id": "428eb34b",
   "metadata": {},
   "outputs": [],
   "source": [
    "chile_df = pd.read_csv('data_clean/chile_clean.csv')\n",
    "argentina_df = pd.read_csv('data_clean/argentina_clean.csv')\n",
    "antartica_df = pd.read_csv('data_clean/antartica_clean.csv')"
   ]
  }
 ],
 "metadata": {
  "kernelspec": {
   "display_name": "Python 3",
   "language": "python",
   "name": "python3"
  },
  "language_info": {
   "codemirror_mode": {
    "name": "ipython",
    "version": 3
   },
   "file_extension": ".py",
   "mimetype": "text/x-python",
   "name": "python",
   "nbconvert_exporter": "python",
   "pygments_lexer": "ipython3",
   "version": "3.11.7"
  }
 },
 "nbformat": 4,
 "nbformat_minor": 5
}
