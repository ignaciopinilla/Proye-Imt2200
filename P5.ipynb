{
 "cells": [
  {
   "cell_type": "code",
   "execution_count": 2,
   "id": "f41b6694-6da7-4faa-a863-52435eb13ffa",
   "metadata": {},
   "outputs": [],
   "source": [
    "import numpy as np\n",
    "import pandas as pd\n",
    "import geopandas as gpd\n",
    "import matplotlib.pyplot as plt \n",
    "import os"
   ]
  },
  {
   "cell_type": "code",
   "execution_count": 3,
   "id": "0953e960-899f-4d99-ae61-b35d5852ae70",
   "metadata": {},
   "outputs": [],
   "source": [
    "chile_df = pd.read_csv('data_clean/chile_clean.csv')\n",
    "argentina_df = pd.read_csv('data_clean/argentina_clean.csv')\n",
    "antartica_df = pd.read_csv('data_clean/antartica_clean.csv')"
   ]
  }
 ],
 "metadata": {
  "kernelspec": {
   "display_name": "Python 3",
   "language": "python",
   "name": "python3"
  },
  "language_info": {
   "codemirror_mode": {
    "name": "ipython",
    "version": 3
   },
   "file_extension": ".py",
   "mimetype": "text/x-python",
   "name": "python",
   "nbconvert_exporter": "python",
   "pygments_lexer": "ipython3",
   "version": "3.11.7"
  }
 },
 "nbformat": 4,
 "nbformat_minor": 5
}
